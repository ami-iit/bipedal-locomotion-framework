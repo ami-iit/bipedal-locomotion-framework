{
 "cells": [
  {
   "cell_type": "markdown",
   "id": "50d9c835",
   "metadata": {},
   "source": [
    "# QP-IK\n",
    "This tutorial aims to give the user a receipt that can be followed to design inverse kinematics exploiting `bipedal-locomotion-framework`. \n",
    "\n",
    "In this tutorial, we will control the end-effector of the `iiwa robot` to perform a predefined trajectory.\n",
    "\n",
    "## Import all the required packages\n",
    "In this section we import all the required packages, in detail, we need `bipedal_locomotion_framework` to solve the IK problem. `robot_descriptions` is required to load the model of the `iiwa`. We exploit `iDynTree` for visualization and to execute dynamics algorithms. Finally `manifpy` is in charge handle rotation matrices and homogeneous transformations.\n",
    "\n",
    "⚠️ Please note that `load_robot_description` can be also used to load the iCub humanoid robot, however, we sudgest using the official model stored in [`icub-models`](https://github.com/robotology/icub-models)."
   ]
  },
  {
   "cell_type": "code",
   "execution_count": null,
   "id": "e92e4fd5",
   "metadata": {},
   "outputs": [],
   "source": [
    "import bipedal_locomotion_framework as blf\n",
    "from robot_descriptions.loaders.idyntree import load_robot_description\n",
    "from idyntree.visualize import MeshcatVisualizer\n",
    "import idyntree.bindings as idyn\n",
    "import numpy as np\n",
    "import manifpy as manif\n",
    "import datetime"
   ]
  },
  {
   "cell_type": "markdown",
   "id": "5efbbd44",
   "metadata": {},
   "source": [
    "## Initialize the script\n",
    "We now load the robot model and pass it to the `iDynTree.KinDynComputations` object. \n",
    "The model has loaded thanks to `load_robot_description` and passed to `KinDynComputations` thanks to `loadRobotModel()`. Once the model is loaded we set the initial joint configuration."
   ]
  },
  {
   "cell_type": "code",
   "execution_count": null,
   "id": "100774b4",
   "metadata": {},
   "outputs": [],
   "source": [
    "dt = 0.01\n",
    "# convert the period in milliseconds\n",
    "period = datetime.timedelta(seconds=dt)\n",
    "\n",
    "robot = load_robot_description(\"iiwa_description\")\n",
    "initial_config = [0, -np.pi/4, 0, np.pi/2, 0, -np.pi/4, 0]\n",
    "kindyn = idyn.KinDynComputations()\n",
    "kindyn.loadRobotModel(robot)\n",
    "kindyn.setJointPos(initial_config)"
   ]
  },
  {
   "cell_type": "markdown",
   "id": "abfedc3b",
   "metadata": {},
   "source": [
    "We define the `Simulator` class that is useful to handle the integration of the dynamical system. You can set the control input (the joint velocity) perform a simulation step and retrieve the output (the joint position)"
   ]
  },
  {
   "cell_type": "code",
   "execution_count": null,
   "id": "d2cbb363",
   "metadata": {},
   "outputs": [],
   "source": [
    "class Simulator:\n",
    "    def __init__(self, initial_config, dt):\n",
    "        self.system = blf.continuous_dynamical_system.FloatingBaseSystemKinematics()\n",
    "        self.system.set_state(([0,0,0],  manif.SO3.Identity(), initial_config))\n",
    "        \n",
    "        self.integrator = blf.continuous_dynamical_system.FloatingBaseSystemKinematicsForwardEulerIntegrator()\n",
    "        self.integrator.set_dynamical_system(self.system)\n",
    "        assert self.integrator.set_integration_step(dt)\n",
    "        self.dt = dt\n",
    "        self.zero = datetime.timedelta(milliseconds=0)\n",
    "    \n",
    "    def set_control_input(self, joint_velocity):\n",
    "        self.system.set_control_input(([0,0,0,0,0,0] , joint_velocity))\n",
    "        \n",
    "    def integrate(self):\n",
    "        self.integrator.integrate(self.zero, self.dt)"
   ]
  },
  {
   "cell_type": "markdown",
   "id": "6e409ca8",
   "metadata": {},
   "source": [
    "We now get the initial position of the end effector, this will be useful to generate the reference end-effector trajectory. We also initialize the `Simulator`."
   ]
  },
  {
   "cell_type": "code",
   "execution_count": null,
   "id": "9365ec25",
   "metadata": {},
   "outputs": [],
   "source": [
    "ee_transform_0 = kindyn.getWorldTransform(\"iiwa_link_ee\")\n",
    "ee_orientation_0 = ee_transform_0.getRotation().toNumPy()\n",
    "ee_position_0 = ee_transform_0.getPosition().toNumPy()\n",
    "\n",
    "simulator = Simulator(initial_config=initial_config, dt=period)"
   ]
  },
  {
   "cell_type": "markdown",
   "id": "1466e877",
   "metadata": {},
   "source": [
    "We now construct the IK problem. To do so we read the parameters stored in `./config/ik.toml`. This file contains the description of all the tasks required by the solver. Then thanks to `blf.utils.create_ik` we build the IK problem. `blf.utils.create_ik` return the solver and a dictionary containing the tasks. By accessing a task you can set the desired setpoint."
   ]
  },
  {
   "cell_type": "code",
   "execution_count": null,
   "id": "01ed7689",
   "metadata": {},
   "outputs": [],
   "source": [
    "params = blf.parameters_handler.TomlParametersHandler()\n",
    "assert params.set_from_file(\"./config/ik.toml\")\n",
    "_, _, solver = blf.ik.QPInverseKinematics.build(kin_dyn = kindyn, param_handler = params);"
   ]
  },
  {
   "cell_type": "markdown",
   "id": "d89c4dc6",
   "metadata": {},
   "source": [
    "We now initialize the visualizer. We add the model of the robot and a sphere showing the desired position of the end effector. You can open the visualizer by visiting the `URL` provided."
   ]
  },
  {
   "cell_type": "code",
   "execution_count": null,
   "id": "34f632b0",
   "metadata": {
    "scrolled": true
   },
   "outputs": [],
   "source": [
    "viz = MeshcatVisualizer()\n",
    "viz.load_model(robot, model_name=\"iiwa\", color=0.8)\n",
    "viz.load_sphere(radius=0.02, shape_name=\"goal\", color=[1, 0.6, 0, 1])\n",
    "viz.set_primitive_geometry_transform(position=ee_position_0, rotation=np.eye(3), shape_name=\"goal\")\n",
    "viz.set_multibody_system_state([0,0,0], np.eye(3), initial_config, model_name=\"iiwa\")\n",
    "viz.jupyter_cell()"
   ]
  },
  {
   "cell_type": "markdown",
   "id": "9d745003",
   "metadata": {},
   "source": [
    "We finally design the trajectory that should be followed by the end effector."
   ]
  },
  {
   "cell_type": "code",
   "execution_count": null,
   "id": "8fa6a0b0",
   "metadata": {},
   "outputs": [],
   "source": [
    "def trajectory(time):\n",
    "    amplitude = 0.5\n",
    "    freq = 0.1\n",
    "    pos = np.array([0, amplitude * np.sin(2 * np.pi * freq * time), 0 ]) + ee_position_0\n",
    "    vel = np.array([0, 2 * np.pi * freq * amplitude * np.cos(2 * np.pi * freq * time), 0 ])\n",
    "\n",
    "    return pos, vel"
   ]
  },
  {
   "cell_type": "markdown",
   "id": "a0338f59",
   "metadata": {},
   "source": [
    "## Main control loop\n",
    "\n",
    "This section contains the main control loop. In detail, we first set the task for the base position (In this case the base is set in the identity and its velocity is set to zero). Moreover to handle redundancy we also set the `joint regularization task` as the initial config.  \n",
    "\n",
    "Then we perform the following action in the loop:\n",
    "1. retrieve the desired trajectory;\n",
    "2. solve the IK problem;\n",
    "3. propagate the simulation;\n",
    "4. update the kinDynComputations object;\n",
    "5. update the visualization."
   ]
  },
  {
   "cell_type": "code",
   "execution_count": null,
   "id": "e5378f2b",
   "metadata": {},
   "outputs": [],
   "source": [
    "solver.get_task(\"BASE_TASK\").set_set_point(manif.SE3.Identity(), manif.SE3Tangent.Zero())\n",
    "solver.get_task(\"JOINT_REGULARIZATION_TASK\").set_set_point(initial_config)\n",
    "\n",
    "for i in range(1000):\n",
    "\n",
    "    tic = blf.clock().now()\n",
    "    \n",
    "    # retrieve the desired trajectory\n",
    "    pos, vel = trajectory(i * dt)\n",
    "    spatial_vel = np.hstack([vel, np.array([0,0,0])])\n",
    "    ee_transform_des = blf.conversions.to_manif_pose(ee_orientation_0, pos)\n",
    "    solver.get_task(\"EE_TASK\").set_set_point(ee_transform_des, manif.SE3Tangent(spatial_vel))\n",
    "    \n",
    "    # solve the IK problem\n",
    "    if not solver.advance():\n",
    "        raise ValueError(\"Unable to solve the IK problem.\")\n",
    "    \n",
    "    # propagate the simulation\n",
    "    simulator.set_control_input(solver.get_output().joint_velocity)\n",
    "    simulator.integrate()\n",
    "    base_position, base_rotation, joint_position = simulator.integrator.get_solution()\n",
    "    \n",
    "    # update the kinDynComputations object\n",
    "    kindyn.setJointPos(joint_position)\n",
    "    \n",
    "    # update the visualization\n",
    "    viz.set_primitive_geometry_transform(position=pos, rotation=np.eye(3), shape_name=\"goal\")\n",
    "    viz.set_multibody_system_state(base_position, base_rotation.rotation(), joint_position, model_name=\"iiwa\")\n",
    "    \n",
    "    # Sleep if required\n",
    "    toc = blf.clock().now()\n",
    "    delta_time = toc - tic\n",
    "    if delta_time < period:\n",
    "        blf.clock().sleep_for(period - delta_time)"
   ]
  }
 ],
 "metadata": {
  "kernelspec": {
   "display_name": "Python 3 (ipykernel)",
   "language": "python",
   "name": "python3"
  },
  "language_info": {
   "codemirror_mode": {
    "name": "ipython",
    "version": 3
   },
   "file_extension": ".py",
   "mimetype": "text/x-python",
   "name": "python",
   "nbconvert_exporter": "python",
   "pygments_lexer": "ipython3",
   "version": "3.8.10"
  },
  "widgets": {
   "application/vnd.jupyter.widget-state+json": {
    "state": {},
    "version_major": 1,
    "version_minor": 0
   }
  }
 },
 "nbformat": 4,
 "nbformat_minor": 5
}
